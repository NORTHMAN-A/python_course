{
 "cells": [
  {
   "cell_type": "markdown",
   "metadata": {},
   "source": [
    "### Day 4"
   ]
  },
  {
   "cell_type": "markdown",
   "metadata": {},
   "source": [
    "#### Randomization"
   ]
  },
  {
   "cell_type": "code",
   "execution_count": 2,
   "metadata": {},
   "outputs": [
    {
     "name": "stdout",
     "output_type": "stream",
     "text": [
      "9\n"
     ]
    }
   ],
   "source": [
    "import random\n",
    "\n",
    "random_integer = random.randint(1,10) #random integer bewteen 1 and 10\n",
    "\n",
    "print(random_integer)"
   ]
  },
  {
   "cell_type": "code",
   "execution_count": 19,
   "metadata": {},
   "outputs": [
    {
     "name": "stdout",
     "output_type": "stream",
     "text": [
      "4.434932878990423\n"
     ]
    }
   ],
   "source": [
    "import random\n",
    "\n",
    "lib = [0,1,2,3,4,5]\n",
    "\n",
    "rand = random.random() * 5\n",
    "\n",
    "print(rand)"
   ]
  },
  {
   "cell_type": "code",
   "execution_count": 33,
   "metadata": {},
   "outputs": [
    {
     "name": "stdout",
     "output_type": "stream",
     "text": [
      "False\n"
     ]
    }
   ],
   "source": [
    "import random\n",
    "\n",
    "random_int = bool(random.randint(0,1)) #\n",
    "\n",
    "print(random_int)\n"
   ]
  },
  {
   "cell_type": "code",
   "execution_count": 36,
   "metadata": {},
   "outputs": [
    {
     "name": "stdout",
     "output_type": "stream",
     "text": [
      "It's Heads!\n"
     ]
    }
   ],
   "source": [
    "#create a flip a coin script\n",
    "\n",
    "import random\n",
    "\n",
    "toss = random.randint(0,1)\n",
    "\n",
    "if toss == 1:\n",
    "    print(\"It's Heads!\")\n",
    "else:\n",
    "    print(\"It's Tails!\")"
   ]
  },
  {
   "cell_type": "code",
   "execution_count": 37,
   "metadata": {},
   "outputs": [
    {
     "name": "stdout",
     "output_type": "stream",
     "text": [
      "['Delaware', 'PencilVania', 'New Jersey', 'Georgia', 'Connecticut', 'Massachusetts', 'Maryland', 'South Carolina', 'New Hampshire', 'Virginia', 'New York', 'North Carolina', 'Rhode Island', 'Vermont', 'Kentucky', 'Tennessee', 'Ohio', 'Louisiana', 'Indiana', 'Mississippi', 'Illinois', 'Alabama', 'Maine', 'Missouri', 'Arkansas', 'Michigan', 'Florida', 'Texas', 'Iowa', 'Wisconsin', 'California', 'Minnesota', 'Oregon', 'Kansas', 'West Virginia', 'Nevada', 'Nebraska', 'Colorado', 'North Dakota', 'South Dakota', 'Montana', 'Washington', 'Idaho', 'Wyoming', 'Utah', 'Oklahoma', 'New Mexico', 'Arizona', 'Alaska', 'Hawaii']\n"
     ]
    }
   ],
   "source": [
    "# Lists \n",
    "\n",
    "states = [\"Delaware\", \"Pennsylvania\", \"New Jersey\", \"Georgia\", \"Connecticut\", \"Massachusetts\", \"Maryland\", \"South Carolina\", \"New Hampshire\", \"Virginia\", \"New York\", \"North Carolina\", \"Rhode Island\", \"Vermont\", \"Kentucky\", \"Tennessee\", \"Ohio\", \"Louisiana\", \"Indiana\", \"Mississippi\", \"Illinois\", \"Alabama\", \"Maine\", \"Missouri\", \"Arkansas\", \"Michigan\", \"Florida\", \"Texas\", \"Iowa\", \"Wisconsin\", \"California\", \"Minnesota\", \"Oregon\", \"Kansas\", \"West Virginia\", \"Nevada\", \"Nebraska\", \"Colorado\", \"North Dakota\", \"South Dakota\", \"Montana\", \"Washington\", \"Idaho\", \"Wyoming\", \"Utah\", \"Oklahoma\", \"New Mexico\", \"Arizona\", \"Alaska\", \"Hawaii\"]\n",
    "\n",
    "states[1] = \"PencilVania\" # This rewrites the value at index 1\n",
    "\n",
    "state.append(\"NorthLand\") # Adds an item at the end of the list\n",
    "\n",
    "states.extend(\"\",\"\",\"\") # Extends the list with another lists\n",
    "\n",
    "print(states)"
   ]
  },
  {
   "cell_type": "markdown",
   "metadata": {},
   "source": [
    "### Day 4 - Code Challenge"
   ]
  },
  {
   "cell_type": "code",
   "execution_count": 8,
   "metadata": {},
   "outputs": [
    {
     "name": "stdin",
     "output_type": "stream",
     "text": [
      "Insert a list of names separated by ', '\n",
      " Aleksey, Mailys, Rafael, Jazz\n"
     ]
    },
    {
     "name": "stdout",
     "output_type": "stream",
     "text": [
      "Mailys will buy the meal today!\n"
     ]
    }
   ],
   "source": [
    "import random\n",
    "\n",
    "# She introduces split function\n",
    "\n",
    "names = input(\"Insert a list of names separated by ', '\\n\") #Input = Aleksey, Mailys, Rafael, Jazz\n",
    "names_list = names.split(\", \") #Output = ['Aleksey', 'Mailys', 'Rafael', 'Jazz']\n",
    "\n",
    "# Challenge: Create a inputed lost from which a name will be randomly chosen\n",
    "\n",
    "\n",
    "chosen = random.choice(names_list)\n",
    "\n",
    "\n",
    "print(f\"{chosen} will buy the meal today!\")"
   ]
  },
  {
   "cell_type": "code",
   "execution_count": 41,
   "metadata": {},
   "outputs": [
    {
     "name": "stdin",
     "output_type": "stream",
     "text": [
      "Insert a list of names separated by ', '\n",
      " Aleksey, Mailys, Rafael, Jazz\n"
     ]
    },
    {
     "name": "stdout",
     "output_type": "stream",
     "text": [
      "Rafael will be paying for the meal today!\n"
     ]
    }
   ],
   "source": [
    "#Another way to do it & Probably the way teacher wanted to do it\n",
    "\n",
    "import random\n",
    "\n",
    "# She introduces split function\n",
    "\n",
    "names = input(\"Insert a list of names separated by ', '\\n\") #Input = Aleksey, Mailys, Rafael, Jazz\n",
    "names_list = names.split(\", \") #Output = ['Aleksey', 'Mailys', 'Rafael', 'Jazz']\n",
    "\n",
    "# Challenge: Create a inputed lost from which a name will be randomly chosen\n",
    "\n",
    "chosen = random.randint(0, len(names_list) - 1) #Because we start at 0, 1, 2, 3 (4 items) we need to do -1 | len(list) = 4\n",
    "\n",
    "print(f\"{names_list[chosen]} will be paying for the meal today!\")\n"
   ]
  },
  {
   "cell_type": "markdown",
   "metadata": {},
   "source": [
    "#### Inserting one list into another"
   ]
  },
  {
   "cell_type": "code",
   "execution_count": 46,
   "metadata": {},
   "outputs": [
    {
     "name": "stdout",
     "output_type": "stream",
     "text": [
      "Kale\n"
     ]
    }
   ],
   "source": [
    "# Initial list\n",
    "\n",
    "fruits_veggies = [\"Stwaberries\", \"Spinach\", \"Kale\", \"Nectarines\"]\n",
    "\n",
    "#What if we want to sort the list by fruits and vegetables?\n",
    "\n",
    "fruits = [\"Strawberries\", \"Nectarines\"]\n",
    "vegies = [\"Spinach\", \"Kale\"]\n",
    "\n",
    "fruits_veggies = [fruits, vegies] #combining lists\n",
    "print(fruits_veggies[1][1]) #The [1][1] prints item at index 1 in the second list"
   ]
  },
  {
   "cell_type": "markdown",
   "metadata": {},
   "source": [
    "### Day 4 - Coding Challenge (Pirate Island)"
   ]
  },
  {
   "cell_type": "code",
   "execution_count": 72,
   "metadata": {},
   "outputs": [
    {
     "name": "stdout",
     "output_type": "stream",
     "text": [
      "['⬜️', '⬜️', '⬜️']\n",
      "['⬜️', '⬜️', '⬜️']\n",
      "['⬜️', '⬜️', '⬜️']\n"
     ]
    },
    {
     "name": "stdin",
     "output_type": "stream",
     "text": [
      "Where do you want to put the treasure?  32\n"
     ]
    },
    {
     "name": "stdout",
     "output_type": "stream",
     "text": [
      "['⬜️', '⬜️', '⬜️']\n",
      "['⬜️', '⬜️', '⬜️']\n",
      "['⬜️', '[x]', '⬜️']\n"
     ]
    }
   ],
   "source": [
    "#The map, made with emojis\n",
    "row1 = [\"⬜️\",\"⬜️\",\"⬜️\"]\n",
    "row2 = [\"⬜️\",\"⬜️\",\"⬜️\"]\n",
    "row3 = [\"⬜️\",\"⬜️\",\"⬜️\"]\n",
    "\n",
    "map1 = [row1, row2, row3]\n",
    "\n",
    "print(f\"{row1}\\n{row2}\\n{row3}\") #printing the map so that the person can see it\n",
    "\n",
    "position = input(\"Where do you want to put the treasure? \")\n",
    "\n",
    "map1[int(position[0])-1][int(position[1])-1] = \"[x]\"\n",
    "\n",
    "print(f\"{row1}\\n{row2}\\n{row3}\")"
   ]
  },
  {
   "cell_type": "code",
   "execution_count": null,
   "metadata": {},
   "outputs": [],
   "source": [
    "#How the teacher did it\n",
    "\n",
    "row1 = [\"⬜️\",\"⬜️\",\"⬜️\"]\n",
    "row2 = [\"⬜️\",\"⬜️\",\"⬜️\"]\n",
    "row3 = [\"⬜️\",\"⬜️\",\"⬜️\"]\n",
    "\n",
    "map1 = [row1, row2, row3]\n",
    "\n",
    "print(f\"{row1}\\n{row2}\\n{row3}\") #printing the map so that the person can see it\n",
    "\n",
    "position = input(\"Where do you want to put the treasure? \")\n",
    "\n",
    "x = int(position[0]) -1\n",
    "y = int(position[1]) -1\n",
    "\n",
    "map1[x][y] = \"X\"\n",
    "\n",
    "print(f\"{row1}\\n{row2}\\n{row3}\")"
   ]
  },
  {
   "cell_type": "code",
   "execution_count": 131,
   "metadata": {},
   "outputs": [
    {
     "name": "stdin",
     "output_type": "stream",
     "text": [
      "What do you choose? Rock[0] , Paper[1], Scissors[2]\n",
      " 2\n"
     ]
    },
    {
     "name": "stdout",
     "output_type": "stream",
     "text": [
      "\n",
      "    _______\n",
      "---'   ____)____\n",
      "          ______)\n",
      "       __________)\n",
      "      (____)\n",
      "---.__(___)\n",
      "\n",
      "Computer chose: \n",
      "    _______\n",
      "---'   ____)____\n",
      "          ______)\n",
      "       __________)\n",
      "      (____)\n",
      "---.__(___)\n",
      "\n",
      " It's a Tie.\n"
     ]
    }
   ],
   "source": [
    "#### Day 4 - Rock Paper Scissors\n",
    "\n",
    "\n",
    "import random\n",
    "\n",
    "choice = int(input(\"What do you choose? Rock[0] , Paper[1], Scissors[2]\\n\"))\n",
    "\n",
    "\n",
    "rock = '''\n",
    "    _______\n",
    "---'   ____)\n",
    "      (_____)\n",
    "      (_____)\n",
    "      (____)\n",
    "---.__(___)\n",
    "'''\n",
    "\n",
    "paper = '''\n",
    "    _______\n",
    "---'   ____)____\n",
    "          ______)\n",
    "          _______)\n",
    "         _______)\n",
    "---.__________)\n",
    "'''\n",
    "\n",
    "scissors = '''\n",
    "    _______\n",
    "---'   ____)____\n",
    "          ______)\n",
    "       __________)\n",
    "      (____)\n",
    "---.__(___)\n",
    "'''\n",
    "\n",
    "lib = [rock, paper, scissors] #Combining into library so that we can index\n",
    "\n",
    "\n",
    "ran_num = random.randint(0,2) # Generates Random Number from 0-2\n",
    "\n",
    "if choice == 0: #ROCK\n",
    "    if ran_num == 1:\n",
    "        result = \"Loss\"\n",
    "    if ran_num == 2:\n",
    "        result = \"Win\"\n",
    "\n",
    "if choice == 1: #Paper\n",
    "    if ran_num == 2:\n",
    "        result = \"Loss\"\n",
    "    if ran_num == 0:\n",
    "        result = \"Win\"\n",
    "\n",
    "if choice == 2: #Scissors\n",
    "    if ran_num == 0:\n",
    "        result = \"Loss\"\n",
    "    if ran_num == 1:\n",
    "        result = \"Win\"\n",
    "        \n",
    "if choice == ran_num:\n",
    "    result = \"Tie\"\n",
    "\n",
    "print(f\"{lib[choice]}\")\n",
    "print(f\"Computer chose: {lib[ran_num]}\\n It's a {result}.\")"
   ]
  },
  {
   "cell_type": "code",
   "execution_count": 135,
   "metadata": {},
   "outputs": [
    {
     "name": "stdin",
     "output_type": "stream",
     "text": [
      "What do you choose? Rock[0] , Paper[1], Scissors[2]\n",
      " 654\n"
     ]
    },
    {
     "name": "stdout",
     "output_type": "stream",
     "text": [
      "You've typed a wrong number\n"
     ]
    }
   ],
   "source": [
    "#### Day 4 - Rock Paper Scissors\n",
    "\n",
    "\n",
    "import random\n",
    "\n",
    "choice = int(input(\"What do you choose? Rock[0] , Paper[1], Scissors[2]\\n\"))\n",
    "\n",
    "\n",
    "rock = '''\n",
    "    _______\n",
    "---'   ____)\n",
    "      (_____)\n",
    "      (_____)\n",
    "      (____)\n",
    "---.__(___)\n",
    "'''\n",
    "\n",
    "paper = '''\n",
    "    _______\n",
    "---'   ____)____\n",
    "          ______)\n",
    "          _______)\n",
    "         _______)\n",
    "---.__________)\n",
    "'''\n",
    "\n",
    "scissors = '''\n",
    "    _______\n",
    "---'   ____)____\n",
    "          ______)\n",
    "       __________)\n",
    "      (____)\n",
    "---.__(___)\n",
    "'''\n",
    "\n",
    "lib = [rock, paper, scissors] #Combining into library so that we can index\n",
    "\n",
    "\n",
    "ran_num = random.randint(0,2) # Generates Random Number from 0-2\n",
    "\n",
    "        \n",
    "if choice >= 3 or choice <0:\n",
    "    print(\"You've typed a wrong number\")\n",
    "    \n",
    "else:\n",
    "\n",
    "    # This is a proccess of elimination: Case 1 [true,false], then Case 2 is True of False?\n",
    "    # It's like fitting shapes into buckets, once the shape fit, it will not continue to the next bucket\n",
    "    \n",
    "    if choice == 0 and ran_num == 2: # We know that Rock[0] always beats Scissors[2]\n",
    "        presult = \"Win\"\n",
    "\n",
    "    elif ran_num == 0 and choice == 2: # We know the opposite is true if we have Scissors and pc has Rock\n",
    "        result = \"Loss\"\n",
    "        \n",
    "# At this point (if [1-2]) didn't fit\n",
    "# If pc_choice[(0 or 1) (1 or 2)] is > than our choice[(0 or 1) (1 or 2)] then we lose\n",
    "# Example if PC = 1 and Us = 0 >>> we lose --v\n",
    "\n",
    "    elif ran_num > choice: \n",
    "        result = \"Loss\"\n",
    "        \n",
    "# Example if PC = 1 and Us = 2 >>> we win --v\n",
    "\n",
    "    elif choice > ran_num:\n",
    "        result = \"Win\"\n",
    "\n",
    "    elif choice == ran_num: # If it's a tie\n",
    "        result = \"Tie\"\n",
    "\n",
    "\n",
    "    print(f\"{lib[choice]}\")\n",
    "    print(f\"Computer chose: {lib[ran_num]}\\n It's a {result}.\")"
   ]
  },
  {
   "cell_type": "markdown",
   "metadata": {},
   "source": [
    "## Day 5"
   ]
  },
  {
   "cell_type": "code",
   "execution_count": 137,
   "metadata": {},
   "outputs": [
    {
     "ename": "SyntaxError",
     "evalue": "can't assign to function call (<ipython-input-137-e882cd83a979>, line 3)",
     "output_type": "error",
     "traceback": [
      "\u001b[1;36m  File \u001b[1;32m\"<ipython-input-137-e882cd83a979>\"\u001b[1;36m, line \u001b[1;32m3\u001b[0m\n\u001b[1;33m    int(letters) = input(\"How many letter would you like?\")\u001b[0m\n\u001b[1;37m                                                           ^\u001b[0m\n\u001b[1;31mSyntaxError\u001b[0m\u001b[1;31m:\u001b[0m can't assign to function call\n"
     ]
    }
   ],
   "source": [
    "### Password Generators\n",
    "print(\"Let's generate a password for you.\")\n",
    "letters = input(\"How many letter would you like?\")\n",
    "symbols = input(\"How many symbols would you like?\")\n",
    "numbers = input(\"How many numbers would you like?\")\n",
    "\n",
    "# Will be covered at the end.\n",
    "\n",
    "print(f\"Here is your password: {password}\")"
   ]
  },
  {
   "cell_type": "markdown",
   "metadata": {},
   "source": [
    "### Day 5 - For Loops"
   ]
  },
  {
   "cell_type": "code",
   "execution_count": 139,
   "metadata": {},
   "outputs": [
    {
     "name": "stdout",
     "output_type": "stream",
     "text": [
      "Apple\n",
      "Peach\n",
      "Pear\n"
     ]
    }
   ],
   "source": [
    "fruits = [\"Apple\", \"Peach\", \"Pear\"]\n",
    "\n",
    "for item in fruits:\n",
    "    print(item)\n"
   ]
  },
  {
   "cell_type": "markdown",
   "metadata": {},
   "source": [
    "#### Day 5 - Average Student Height (For loops)"
   ]
  },
  {
   "cell_type": "code",
   "execution_count": 19,
   "metadata": {},
   "outputs": [
    {
     "name": "stdin",
     "output_type": "stream",
     "text": [
      "Input a list of student heights  156 178 165 171 187\n"
     ]
    },
    {
     "name": "stdout",
     "output_type": "stream",
     "text": [
      "The average is 171\n"
     ]
    }
   ],
   "source": [
    "# 🚨 Don't change the code below 👇\n",
    "student_h = input(\"Input a list of student heights \").split()\n",
    "for n in range(0, len(student_h)):\n",
    "  student_h[n] = int(student_h[n])\n",
    "# 🚨 Don't change the code above 👆\n",
    "\n",
    "total = 0\n",
    "count = 0\n",
    "\n",
    "for i in student_h:\n",
    "    total += i\n",
    "    count += 1\n",
    "\n",
    "result = total / count\n",
    "    \n",
    "print(f\"The average is {round(result)}\")\n"
   ]
  },
  {
   "cell_type": "markdown",
   "metadata": {},
   "source": [
    "### Day 5 - Coding Challenge (Highest Score Excercise)"
   ]
  },
  {
   "cell_type": "code",
   "execution_count": 28,
   "metadata": {},
   "outputs": [
    {
     "name": "stdin",
     "output_type": "stream",
     "text": [
      "Input a list of student scores  55 66 872 091 67 28\n"
     ]
    },
    {
     "name": "stdout",
     "output_type": "stream",
     "text": [
      "872\n"
     ]
    }
   ],
   "source": [
    "# 🚨 Don't change the code below 👇\n",
    "student_scores = input(\"Input a list of student scores \").split()\n",
    "for n in range(0, len(student_scores)):\n",
    "  student_scores[n] = int(student_scores[n])\n",
    "\n",
    "# example_list = [55 66 872 091 67 28]\n",
    "\n",
    "# 🚨 Don't change the code above 👆\n",
    "\n",
    "#Write your code below this row 👇\n",
    "\n",
    "score = 0\n",
    "\n",
    "for i in student_scores:\n",
    "    if i > score:\n",
    "        score = i\n",
    "        \n",
    "print(score)\n"
   ]
  },
  {
   "cell_type": "markdown",
   "metadata": {},
   "source": [
    "### Using for loops with range()"
   ]
  },
  {
   "cell_type": "code",
   "execution_count": 29,
   "metadata": {},
   "outputs": [
    {
     "name": "stdout",
     "output_type": "stream",
     "text": [
      "1\n",
      "4\n",
      "7\n"
     ]
    }
   ],
   "source": [
    "for number in range(1,10, 3): #range (from, to, steps)\n",
    "    print(number)\n",
    "    "
   ]
  },
  {
   "cell_type": "code",
   "execution_count": 30,
   "metadata": {},
   "outputs": [
    {
     "name": "stdout",
     "output_type": "stream",
     "text": [
      "5050\n"
     ]
    }
   ],
   "source": [
    "total = 0\n",
    "\n",
    "for i in range(1,101):\n",
    "    total += i\n",
    "    \n",
    "print(total)"
   ]
  },
  {
   "cell_type": "code",
   "execution_count": 34,
   "metadata": {},
   "outputs": [
    {
     "name": "stdout",
     "output_type": "stream",
     "text": [
      "2550\n"
     ]
    }
   ],
   "source": [
    "# Calculate all of the even number from 1 to 100\n",
    "\n",
    "total = 0\n",
    "\n",
    "for i in range (0,101,2):\n",
    "    total+=i\n",
    "\n",
    "print(total)"
   ]
  },
  {
   "cell_type": "code",
   "execution_count": 37,
   "metadata": {},
   "outputs": [
    {
     "name": "stdout",
     "output_type": "stream",
     "text": [
      "2550\n"
     ]
    }
   ],
   "source": [
    "#Calculate even numbers - another way\n",
    "\n",
    "total = 0\n",
    "\n",
    "for i in range(1,101):\n",
    "    if i % 2 == 0: #if the remainder = 0 then\n",
    "        total += i # total = total + i\n",
    "print(total)"
   ]
  },
  {
   "cell_type": "markdown",
   "metadata": {},
   "source": [
    "### Day 5 - Code Challenge - FizzBuzz game\n",
    "##### Instructions: 1. Count to 100. If the nuber is divisible by 3 type Fizz\n",
    "##### If num divisible by 5 type Buzz\n",
    "##### If bymber both divisible by 3 and 15 type FizzBuzz"
   ]
  },
  {
   "cell_type": "code",
   "execution_count": 53,
   "metadata": {},
   "outputs": [
    {
     "name": "stdout",
     "output_type": "stream",
     "text": [
      "1\n",
      "2\n",
      "Fizz\n",
      "4\n",
      "Buzz\n",
      "BuzzFizz\n",
      "7\n",
      "8\n",
      "Fizz\n",
      "FizzBuzz\n",
      "11\n",
      "Fizz\n",
      "13\n",
      "14\n",
      "Fizz\n",
      "16\n",
      "17\n",
      "Fizz\n",
      "19\n"
     ]
    }
   ],
   "source": [
    "for i in range (1, 101):\n",
    "    \n",
    "    if i % 3 == 0: # if remained is = 0\n",
    "        value += \"Fizz\"\n",
    "        print(value)\n",
    "        \n",
    "    elif i % 5 == 0:\n",
    "        value += \"Buzz\"\n",
    "        print(value)\n",
    "        \n",
    "    else:\n",
    "        value = \"\"\n",
    "        print(i)"
   ]
  },
  {
   "cell_type": "code",
   "execution_count": 56,
   "metadata": {},
   "outputs": [
    {
     "name": "stdout",
     "output_type": "stream",
     "text": [
      "1\n",
      "2\n",
      "Fizz\n",
      "4\n",
      "Buzz\n",
      "Fizz\n",
      "7\n",
      "8\n",
      "Fizz\n",
      "Buzz\n",
      "11\n",
      "Fizz\n",
      "13\n",
      "14\n",
      "FizzBuzz\n",
      "16\n",
      "17\n",
      "Fizz\n",
      "19\n"
     ]
    }
   ],
   "source": [
    "# Cleaned up the code in this one :) Teacher did the same way\n",
    "\n",
    "for i in range (1, 20):\n",
    "       \n",
    "    if i % 3 == 0 and i % 5 == 0:\n",
    "        print(\"FizzBuzz\")\n",
    "    \n",
    "    elif i % 3 == 0: # if remained is = 0\n",
    "        print(\"Fizz\")\n",
    "        \n",
    "    elif i % 5 == 0:\n",
    "        print(\"Buzz\")\n",
    "        \n",
    "    else:\n",
    "        print(i)"
   ]
  },
  {
   "cell_type": "markdown",
   "metadata": {},
   "source": [
    "### Day 5 - Password generator"
   ]
  },
  {
   "cell_type": "code",
   "execution_count": 95,
   "metadata": {},
   "outputs": [
    {
     "name": "stdout",
     "output_type": "stream",
     "text": [
      "Welcome to the PyPassword Generator!\n"
     ]
    },
    {
     "name": "stdin",
     "output_type": "stream",
     "text": [
      "How many letters would you like in your password?\n",
      " 4\n",
      "How many numbers would you like?\n",
      " 3\n",
      "How many symbols would you like?\n",
      " 2\n"
     ]
    },
    {
     "name": "stdout",
     "output_type": "stream",
     "text": [
      "d#20db$3e\n"
     ]
    }
   ],
   "source": [
    "## Password Generator Project\n",
    "import random\n",
    "letters = ['a', 'b', 'c', 'd', 'e', 'f', 'g', 'h', 'i', 'j', 'k', 'l', 'm', 'n', 'o', 'p', 'q', 'r', 's', 't', 'u', 'v', 'w', 'x', 'y', 'z', 'A', 'B', 'C', 'D', 'E', 'F', 'G', 'H', 'I', 'J', 'K', 'L', 'M', 'N', 'O', 'P', 'Q', 'R', 'S', 'T', 'U', 'V', 'W', 'X', 'Y', 'Z']\n",
    "numbers = ['0', '1', '2', '3', '4', '5', '6', '7', '8', '9']\n",
    "symbols = ['!', '#', '$', '%', '&', '(', ')', '*', '+']\n",
    "\n",
    "print(\"Welcome to the PyPassword Generator!\")\n",
    "n_letters= int(input(\"How many letters would you like in your password?\\n\")) \n",
    "n_numbers = int(input(f\"How many numbers would you like?\\n\"))\n",
    "n_symbols = int(input(f\"How many symbols would you like?\\n\"))\n",
    "\n",
    "#---------------------------------------\n",
    "\n",
    "password = \"\"\n",
    "\n",
    "for i in range(0, n_letters):\n",
    "    password += letters[random.randint(0, n_letters)]\n",
    "    \n",
    "for i in range(0, n_numbers):\n",
    "    password += numbers[random.randint(0, n_numbers)]\n",
    "    \n",
    "for i in range(0, n_symbols):\n",
    "    password += symbols[random.randint(0, n_symbols)]\n",
    " \n",
    "rand_pass = list(password)\n",
    "random.shuffle(rand_pass)\n",
    "\n",
    "print(''.join(rand_pass))\n",
    "\n"
   ]
  },
  {
   "cell_type": "code",
   "execution_count": 1,
   "metadata": {},
   "outputs": [
    {
     "name": "stdout",
     "output_type": "stream",
     "text": [
      "Welcome to the PyPassword Generator!\n"
     ]
    },
    {
     "name": "stdin",
     "output_type": "stream",
     "text": [
      "How many letters would you like in your password?\n",
      " 3\n",
      "How many numbers would you like?\n",
      " 3\n",
      "How many symbols would you like?\n",
      " 1\n"
     ]
    },
    {
     "name": "stdout",
     "output_type": "stream",
     "text": [
      "57Nf$1j\n"
     ]
    }
   ],
   "source": [
    "### Teacher solution:\n",
    "\n",
    "## Password Generator Project\n",
    "import random\n",
    "letters = ['a', 'b', 'c', 'd', 'e', 'f', 'g', 'h', 'i', 'j', 'k', 'l', 'm', 'n', 'o', 'p', 'q', 'r', 's', 't', 'u', 'v', 'w', 'x', 'y', 'z', 'A', 'B', 'C', 'D', 'E', 'F', 'G', 'H', 'I', 'J', 'K', 'L', 'M', 'N', 'O', 'P', 'Q', 'R', 'S', 'T', 'U', 'V', 'W', 'X', 'Y', 'Z']\n",
    "numbers = ['0', '1', '2', '3', '4', '5', '6', '7', '8', '9']\n",
    "symbols = ['!', '#', '$', '%', '&', '(', ')', '*', '+']\n",
    "\n",
    "print(\"Welcome to the PyPassword Generator!\")\n",
    "n_letters= int(input(\"How many letters would you like in your password?\\n\")) \n",
    "n_numbers = int(input(f\"How many numbers would you like?\\n\"))\n",
    "n_symbols = int(input(f\"How many symbols would you like?\\n\"))\n",
    "\n",
    "#---------------------------------------\n",
    "\n",
    "password = []\n",
    "\n",
    "for i in range(1, n_letters +1 ):\n",
    "    password += random.choice(letters)\n",
    "\n",
    "for i in range(1, n_numbers +1 ):\n",
    "    password += random.choice(numbers)\n",
    "    \n",
    "for i in range(1, n_symbols +1 ):\n",
    "    password += random.choice(symbols)\n",
    "    \n",
    "random.shuffle(password)\n",
    "\n",
    "final_pass = \"\"\n",
    "\n",
    "for i in password:\n",
    "    final_pass += i\n",
    "\n",
    "print(final_pass)"
   ]
  },
  {
   "cell_type": "code",
   "execution_count": 3,
   "metadata": {},
   "outputs": [
    {
     "name": "stdout",
     "output_type": "stream",
     "text": [
      "Welcome to the PyPassword Generator!\n"
     ]
    },
    {
     "name": "stdin",
     "output_type": "stream",
     "text": [
      "How many letters would you like in your password?\n",
      " 3\n",
      "How many numbers would you like?\n",
      " 3\n",
      "How many symbols would you like?\n",
      " 1\n"
     ]
    },
    {
     "name": "stdout",
     "output_type": "stream",
     "text": [
      "8g!4BG9\n"
     ]
    }
   ],
   "source": [
    "# My vesrion - Perfected\n",
    "\n",
    "import random\n",
    "letters = ['a', 'b', 'c', 'd', 'e', 'f', 'g', 'h', 'i', 'j', 'k', 'l', 'm', 'n', 'o', 'p', 'q', 'r', 's', 't', 'u', 'v', 'w', 'x', 'y', 'z', 'A', 'B', 'C', 'D', 'E', 'F', 'G', 'H', 'I', 'J', 'K', 'L', 'M', 'N', 'O', 'P', 'Q', 'R', 'S', 'T', 'U', 'V', 'W', 'X', 'Y', 'Z']\n",
    "numbers = ['0', '1', '2', '3', '4', '5', '6', '7', '8', '9']\n",
    "symbols = ['!', '#', '$', '%', '&', '(', ')', '*', '+']\n",
    "\n",
    "print(\"Welcome to the PyPassword Generator!\")\n",
    "n_letters= int(input(\"How many letters would you like in your password?\\n\")) \n",
    "n_numbers = int(input(f\"How many numbers would you like?\\n\"))\n",
    "n_symbols = int(input(f\"How many symbols would you like?\\n\"))\n",
    "\n",
    "#---------------------------------------\n",
    "\n",
    "password = []\n",
    "\n",
    "for i in range(0, n_letters):\n",
    "    password += random.choice(letters)\n",
    "\n",
    "for i in range(0, n_numbers):\n",
    "    password += random.choice(numbers)\n",
    "    \n",
    "for i in range(0, n_symbols):\n",
    "    password += random.choice(symbols)\n",
    "    \n",
    "random.shuffle(password)\n",
    "\n",
    "print(''.join(password))"
   ]
  },
  {
   "cell_type": "markdown",
   "metadata": {},
   "source": [
    "## Day 6 - Functions | Code Blocks | While Loops"
   ]
  },
  {
   "cell_type": "code",
   "execution_count": 1,
   "metadata": {},
   "outputs": [
    {
     "name": "stdout",
     "output_type": "stream",
     "text": [
      "Hello\n",
      "World\n"
     ]
    }
   ],
   "source": [
    "# Defining function in Python\n",
    "\n",
    "def name_of_the_function():\n",
    "    print(\"Hello\")\n",
    "    print(\"World\")\n",
    "    \n",
    "name_of_the_function() # This is how we call the function"
   ]
  },
  {
   "cell_type": "markdown",
   "metadata": {},
   "source": [
    "#### Day 6 - While Loops"
   ]
  },
  {
   "cell_type": "code",
   "execution_count": 2,
   "metadata": {},
   "outputs": [
    {
     "name": "stdout",
     "output_type": "stream",
     "text": [
      "1\n",
      "2\n",
      "3\n"
     ]
    }
   ],
   "source": [
    "xyz = 0\n",
    "\n",
    "while xyz != 3:\n",
    "    xyz += 1\n",
    "    print(xyz)\n",
    "    "
   ]
  },
  {
   "cell_type": "code",
   "execution_count": 4,
   "metadata": {},
   "outputs": [],
   "source": [
    "# Different ways to exectute while loops\n",
    "\n",
    "func = True\n",
    "\n",
    "while func is not True:\n",
    "    print(\"Ok!\")\n",
    "    \n",
    "while func is False:\n",
    "    print(\"Ok!\")\n",
    "    \n",
    "while func != True: \n",
    "    print(\"Ok!\")\n",
    "\n",
    "while not func(): #While not true (Flag at the goal)\n",
    "    print(\"Ok!\")"
   ]
  },
  {
   "cell_type": "code",
   "execution_count": 6,
   "metadata": {},
   "outputs": [
    {
     "name": "stdout",
     "output_type": "stream",
     "text": [
      "True\n"
     ]
    }
   ],
   "source": [
    "def x():\n",
    "    return True\n",
    "\n",
    "print(x())"
   ]
  },
  {
   "cell_type": "code",
   "execution_count": null,
   "metadata": {},
   "outputs": [],
   "source": [
    "# Excercise on https://reeborg.ca/reeborg.html?lang=en&mode=python&menu=worlds%2Fmenus%2Freeborg_intro_en.json&name=Maze&url=worlds%2Ftutorial_en%2Fmaze1.json\n",
    "\n",
    "def turn_right():\n",
    "    turn_left()\n",
    "    turn_left()\n",
    "    turn_left()\n",
    "\n",
    "while front_is_clear():  # This is the solution for the robot to not get stuck\n",
    "    move()\n",
    "turn_left()\n",
    "\n",
    "while not at_goal():\n",
    "    if right_is_clear():\n",
    "        turn_right()\n",
    "        move()\n",
    "    elif front_is_clear():\n",
    "        move()\n",
    "    else:\n",
    "        turn_left()"
   ]
  }
 ],
 "metadata": {
  "kernelspec": {
   "display_name": "Python 3",
   "language": "python",
   "name": "python3"
  },
  "language_info": {
   "codemirror_mode": {
    "name": "ipython",
    "version": 3
   },
   "file_extension": ".py",
   "mimetype": "text/x-python",
   "name": "python",
   "nbconvert_exporter": "python",
   "pygments_lexer": "ipython3",
   "version": "3.7.6"
  }
 },
 "nbformat": 4,
 "nbformat_minor": 4
}
